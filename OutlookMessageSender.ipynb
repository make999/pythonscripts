{
 "cells": [
  {
   "cell_type": "code",
   "execution_count": 1,
   "metadata": {
    "collapsed": true
   },
   "outputs": [],
   "source": [
    "import smtplib, os\n",
    "from email.MIMEMultipart import MIMEMultipart\n",
    "from email.MIMEBase import MIMEBase\n",
    "from email.MIMEText import MIMEText\n",
    "from email.MIMEImage import MIMEImage\n",
    "from email.Utils import COMMASPACE, formatdate\n",
    "from email import Encoders\n",
    "import ConfigParser\n",
    "\n",
    "def send_mail(send_from, send_to, subject, text, files=None, \n",
    "                          data_attachments=None, server=\"smtp.office365.com\", port=587, \n",
    "                          tls=True, html=False, images=None,\n",
    "                          username=None, password=None, \n",
    "                          config_file=None, config=None):\n",
    "\n",
    "    if files is None:\n",
    "        files = []\n",
    "\n",
    "    if images is None:\n",
    "        images = []\n",
    "\n",
    "    if data_attachments is None:\n",
    "        data_attachments = []\n",
    "\n",
    "    if config_file is not None:\n",
    "        config = ConfigParser.ConfigParser()\n",
    "        config.read(config_file)\n",
    "\n",
    "    if config is not None:\n",
    "        server = config.get('smtp', 'server')\n",
    "        port = config.get('smtp', 'port')\n",
    "        tls = config.get('smtp', 'tls').lower() in ('true', 'yes', 'y')\n",
    "        username = config.get('smtp', 'username')\n",
    "        password = config.get('smtp', 'password')\n",
    "\n",
    "    msg = MIMEMultipart('related')\n",
    "    msg['From'] = send_from\n",
    "    msg['To'] = send_to if isinstance(send_to, basestring) else COMMASPACE.join(send_to)\n",
    "    msg['Date'] = formatdate(localtime=True)\n",
    "    msg['Subject'] = subject\n",
    "\n",
    "    msg.attach( MIMEText(text, 'html' if html else 'plain') )\n",
    "\n",
    "    for f in files:\n",
    "        part = MIMEBase('application', \"octet-stream\")\n",
    "        part.set_payload( open(f,\"rb\").read() )\n",
    "        Encoders.encode_base64(part)\n",
    "        part.add_header('Content-Disposition', 'attachment; filename=\"%s\"' % os.path.basename(f))\n",
    "        msg.attach(part)\n",
    "\n",
    "    for f in data_attachments:\n",
    "        part = MIMEBase('application', \"octet-stream\")\n",
    "        part.set_payload( f['data'] )\n",
    "        Encoders.encode_base64(part)\n",
    "        part.add_header('Content-Disposition', 'attachment; filename=\"%s\"' % f['filename'])\n",
    "        msg.attach(part)\n",
    "\n",
    "    for (n, i) in enumerate(images):\n",
    "        fp = open(i, 'rb')\n",
    "        msgImage = MIMEImage(fp.read())\n",
    "        fp.close()\n",
    "        msgImage.add_header('Content-ID', '<image{0}>'.format(str(n+1)))\n",
    "        msg.attach(msgImage)\n",
    "\n",
    "    smtp = smtplib.SMTP(server, int(port))\n",
    "    if tls:\n",
    "        smtp.starttls()\n",
    "\n",
    "    if username is not None:\n",
    "        smtp.login(username, password)\n",
    "    smtp.sendmail(send_from, send_to, msg.as_string())\n",
    "    smtp.close()"
   ]
  },
  {
   "cell_type": "code",
   "execution_count": 4,
   "metadata": {
    "collapsed": false
   },
   "outputs": [],
   "source": [
    "send_mail('magzhan001@e.ntu.edu.sg', 'magzhan.i@adsc.com.sg', 'Subject', 'Message Body', \n",
    "                   username='magzhan001@e.ntu.edu.sg', password='MENqazaqpin1991')"
   ]
  },
  {
   "cell_type": "code",
   "execution_count": null,
   "metadata": {
    "collapsed": true
   },
   "outputs": [],
   "source": []
  }
 ],
 "metadata": {
  "kernelspec": {
   "display_name": "Python 2",
   "language": "python",
   "name": "python2"
  },
  "language_info": {
   "codemirror_mode": {
    "name": "ipython",
    "version": 2
   },
   "file_extension": ".py",
   "mimetype": "text/x-python",
   "name": "python",
   "nbconvert_exporter": "python",
   "pygments_lexer": "ipython2",
   "version": "2.7.10"
  }
 },
 "nbformat": 4,
 "nbformat_minor": 0
}
